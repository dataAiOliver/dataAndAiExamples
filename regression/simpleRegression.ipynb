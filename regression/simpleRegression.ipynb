{
 "cells": [
  {
   "cell_type": "code",
   "execution_count": null,
   "metadata": {},
   "outputs": [],
   "source": [
    "import pickle, os, sys\n",
    "import seaborn as sns\n",
    "import pandas as pd\n",
    "import matplotlib.pyplot as plt\n",
    "from sklearn.model_selection import train_test_split\n",
    "from sklearn.impute import SimpleImputer\n",
    "from sklearn.pipeline import Pipeline\n",
    "from sklearn.preprocessing import StandardScaler, OneHotEncoder\n",
    "from sklearn.compose import ColumnTransformer\n",
    "from sklearn.linear_model import LinearRegression\n",
    "from sklearn.metrics import r2_score, mean_squared_error, mean_absolute_error"
   ]
  },
  {
   "cell_type": "code",
   "execution_count": null,
   "metadata": {},
   "outputs": [],
   "source": [
    "# TRAIN PIPELINE\n",
    "\n",
    "# READ DF\n",
    "url = 'http://archive.ics.uci.edu/ml/machine-learning-databases/auto-mpg/auto-mpg.data'\n",
    "column_names = ['MPG', 'Cylinders', 'Displacement', 'Horsepower', 'Weight',\n",
    "                'Acceleration', 'Model Year', 'Origin']\n",
    "df = pd.read_csv(url, names=column_names, na_values='?', comment='\\t', sep=' ', skipinitialspace=True)\n",
    "sns.pairplot(df[['MPG', 'Displacement', 'Weight']], diag_kind='kde')\n"
   ]
  },
  {
   "cell_type": "code",
   "execution_count": null,
   "metadata": {},
   "outputs": [],
   "source": [
    "# INITIALIZE\n",
    "metr = {}\n",
    "pipeline = {}\n",
    "tar_col = \"MPG\"\n",
    "\n",
    "X = df.drop(columns=[tar_col])  # Features\n",
    "y = df[tar_col]  # Target\n",
    "\n",
    "# Split data into training and testing sets\n",
    "X_train, X_test, y_train, y_test = train_test_split(X, y, test_size=0.2, random_state=42)\n",
    "\n",
    "# Define numerical and categorical column names\n",
    "numerical_cols = [col for col, dtype in df.dtypes.items() if not(dtype == \"object\") and not (col == tar_col)]  # Replace with actual numerical column names\n",
    "categorical_cols = [col for col, dtype in df.dtypes.items() if (dtype == \"object\") and not (col == tar_col)]  # Replace with actual categorical column names\n",
    "\n",
    "# Impute missing values\n",
    "numerical_imputer = SimpleImputer(strategy='mean')\n",
    "categorical_imputer = SimpleImputer(strategy='most_frequent')\n",
    "\n",
    "# Update the preprocessing steps for numerical and categorical columns\n",
    "numerical_transformer = Pipeline(steps=[\n",
    "    ('imputer', numerical_imputer),\n",
    "    ('scaler', StandardScaler())\n",
    "])\n",
    "\n",
    "categorical_transformer = Pipeline(steps=[\n",
    "    ('imputer', categorical_imputer),\n",
    "    ('onehot', OneHotEncoder(handle_unknown='ignore'))\n",
    "])\n",
    "\n",
    "# Combine preprocessing steps for both numerical and categorical columns\n",
    "preprocessor = ColumnTransformer(\n",
    "    transformers=[\n",
    "        ('num', numerical_transformer, numerical_cols),\n",
    "        ('cat', categorical_transformer, categorical_cols)\n",
    "    ])\n",
    "\n",
    "#########################################################################\n",
    "#########################FIT############################################\n",
    "#########################################################################\n",
    "\n",
    "regression_method = LinearRegression() # RandomForestRegressor, MLPRegressor\n",
    "# Update the pipeline with the new preprocessing steps\n",
    "pipeline = Pipeline(steps=[('preprocessor', preprocessor),\n",
    "                            ('regressor', regression_method)])\n",
    "\n",
    "pipeline.fit(X_train, y_train)\n",
    "\n",
    "\n",
    "#########################################################################\n",
    "#########################PERFOMANCE############################################\n",
    "#########################################################################\n",
    "# Make predictions on the testing data\n",
    "predictions = pipeline.predict(X_test)\n",
    "\n",
    "metr = {}\n",
    "metr[\"r2\"] = r2_score(y_test, predictions)\n",
    "metr[\"mse\"] = mean_squared_error(y_test, predictions)\n",
    "metr[\"rmse\"] = mean_squared_error(y_test, predictions, squared=False)\n",
    "metr[\"mae\"] = mean_absolute_error(y_test, predictions)\n",
    "metr[\"nmse\"] = mean_squared_error(y_test, predictions) / (y_test.max() - y_test.min())\n",
    "metr[\"y_test\"] = y_test\n",
    "metr[\"predictions\"] = predictions\n",
    "\n",
    "fig, ax = plt.subplots(figsize=(8, 6))\n",
    "ax.scatter(y_test, predictions, color='blue', label='True vs Predicted')\n",
    "ax.plot([y_test.min(), y_test.max()], [y_test.min(), y_test.max()], color='red', linestyle='--')\n",
    "ax.set_xlabel('True Values')\n",
    "ax.set_ylabel('Predicted Values')\n",
    "ax.set_title(f\"True vs Predicted Values (RMSE: {metr['rmse']:.2f})\")\n",
    "ax.legend(loc='best')\n",
    "ax.grid(True)\n",
    "\n",
    "print(f\"\")"
   ]
  },
  {
   "cell_type": "code",
   "execution_count": null,
   "metadata": {},
   "outputs": [],
   "source": [
    "df.describe().transpose()"
   ]
  },
  {
   "cell_type": "code",
   "execution_count": null,
   "metadata": {},
   "outputs": [],
   "source": [
    "X_tr = pd.DataFrame(preprocessor.fit_transform(df))\n",
    "X_tr.columns = X.columns\n",
    "X_tr.describe().transpose()"
   ]
  },
  {
   "cell_type": "code",
   "execution_count": null,
   "metadata": {},
   "outputs": [],
   "source": [
    "# SAVE PIPELINE\n",
    "j_pipeline = {\"pipeline\" : pipeline}\n",
    "with open(os.path.join(\"out\", \"savedRegPipeline.pkl\"), \"wb\") as f:\n",
    "    pickle.dump(j_pipeline, f)"
   ]
  },
  {
   "cell_type": "code",
   "execution_count": null,
   "metadata": {},
   "outputs": [],
   "source": [
    "url = 'http://archive.ics.uci.edu/ml/machine-learning-databases/auto-mpg/auto-mpg.data'\n",
    "column_names = ['MPG', 'Cylinders', 'Displacement', 'Horsepower', 'Weight',\n",
    "                'Acceleration', 'Model Year', 'Origin']\n",
    "df = pd.read_csv(url, names=column_names, na_values='?', comment='\\t', sep=' ', skipinitialspace=True)\n",
    "\n",
    "df.to_excel(os.path.join(\"in\", \"autoMpg.xlsx\"), index=False)"
   ]
  },
  {
   "cell_type": "code",
   "execution_count": null,
   "metadata": {},
   "outputs": [],
   "source": [
    "# LOAD PIPELINE AND TEST\n",
    "import pandas as pd\n",
    "import pickle, os\n",
    "import numpy as np\n",
    "# read data\n",
    "url = 'http://archive.ics.uci.edu/ml/machine-learning-databases/auto-mpg/auto-mpg.data'\n",
    "column_names = ['MPG', 'Cylinders', 'Displacement', 'Horsepower', 'Weight',\n",
    "                'Acceleration', 'Model Year', 'Origin']\n",
    "df = pd.read_csv(url, names=column_names, na_values='?', comment='\\t', sep=' ', skipinitialspace=True)\n",
    "df = pd.read_excel(os.path.join(\"in\", \"autoMpg.xlsx\"))\n",
    "\n",
    "# load pipeline\n",
    "with open(os.path.join(\"out\", \"savedRegPipeline.pkl\"), \"rb\") as f:\n",
    "    j_pipeline = pickle.load(f)\n",
    "pipeline = j_pipeline[\"pipeline\"]\n",
    "\n",
    "# predict values\n",
    "y_pred = pipeline.predict(df)"
   ]
  },
  {
   "cell_type": "code",
   "execution_count": null,
   "metadata": {},
   "outputs": [],
   "source": [
    "y_tar = df[\"MPG\"].to_numpy()\n",
    "squared_errors = (y_tar - y_pred) ** 2\n",
    "mean_squared_error = np.mean(squared_errors)\n",
    "rmse = np.sqrt(mean_squared_error)\n",
    "\n",
    "print(f\"RMSE: {rmse}\")"
   ]
  },
  {
   "cell_type": "code",
   "execution_count": null,
   "metadata": {},
   "outputs": [],
   "source": []
  }
 ],
 "metadata": {
  "kernelspec": {
   "display_name": "Python 3",
   "language": "python",
   "name": "python3"
  },
  "language_info": {
   "codemirror_mode": {
    "name": "ipython",
    "version": 3
   },
   "file_extension": ".py",
   "mimetype": "text/x-python",
   "name": "python",
   "nbconvert_exporter": "python",
   "pygments_lexer": "ipython3",
   "version": "3.12.1"
  }
 },
 "nbformat": 4,
 "nbformat_minor": 2
}
