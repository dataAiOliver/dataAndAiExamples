{
 "cells": [
  {
   "cell_type": "code",
   "execution_count": null,
   "metadata": {},
   "outputs": [],
   "source": [
    "# problem when different schemas\n",
    "from sqlalchemy import create_engine\n",
    "import pandas as pd\n",
    "def get_engine(user = 'postgres', password = 'dummy', host = 'localhost', port = '5432', dbname = 'sqlrag'):\n",
    "\n",
    "    connection_string = f\"postgresql://{user}:{password}@{host}:{port}/{dbname}\"\n",
    "\n",
    "    return create_engine(connection_string)\n",
    "\n",
    "# get engine\n",
    "engine = get_engine()"
   ]
  },
  {
   "cell_type": "code",
   "execution_count": null,
   "metadata": {},
   "outputs": [],
   "source": [
    "# create and fill employee table\n",
    "data = {\n",
    "    \"employee_id\": [1, 2, 3, 4],\n",
    "    \"employee_name\": [\"Employee_1\", \"Employee_2\", \"Employee_3\", \"Employee_4\"],\n",
    "}\n",
    "df = pd.DataFrame(data)\n",
    "schema = \"sch_employee\"\n",
    "table_name = 'employee'\n",
    "df.to_sql(table_name, engine, if_exists='replace', index=False, schema=schema)  # Use 'fail' or 'append' as needed"
   ]
  },
  {
   "cell_type": "code",
   "execution_count": null,
   "metadata": {},
   "outputs": [],
   "source": [
    "# create and fill worked-hours table\n",
    "data = {\n",
    "    \"employee_id\": [1, 2, 3, 4],\n",
    "    \"worked_hours\": [1, 22, 333, 4444],\n",
    "}\n",
    "df = pd.DataFrame(data)\n",
    "table_name = 'hours'\n",
    "df.to_sql(table_name, engine, if_exists='replace', index=False, schema=schema)"
   ]
  },
  {
   "cell_type": "code",
   "execution_count": 1,
   "metadata": {},
   "outputs": [],
   "source": [
    "from langchain_community.agent_toolkits import create_sql_agent\n",
    "from langchain_openai import ChatOpenAI\n",
    "from langchain_openai import AzureChatOpenAI\n",
    "from langchain_community.utilities import SQLDatabase\n",
    "import os\n",
    "import logging\n",
    "logging.basicConfig(level=logging.ERROR)\n",
    "llm = AzureChatOpenAI(azure_endpoint=os.getenv(\"AZURE_OPENAI_ENDPOINT\"), api_key=os.getenv(\"AZURE_OPENAI_API_KEY\")\n",
    "                        , azure_deployment=os.getenv(\"AZURE_OPENAI_CHATGPT_DEPLOYMENT\"), model=\"gpt-35-turbo\"\n",
    "                        , api_version=os.getenv(\"OPENAI_API_VERSION\"), openai_api_type=\"azure\")\n",
    "\n",
    "def get_db(src = \"langchain\", user = 'postgres', password = 'dummy', host = 'localhost', port = '5432', dbname = 'sqlrag'):\n",
    "\n",
    "    connection_string = f\"postgresql://{user}:{password}@{host}:{port}/{dbname}\"\n",
    "\n",
    "    if src == \"langchain\":\n",
    "        return SQLDatabase.from_uri(connection_string, schema = \"sch_employee\")\n",
    "    \n",
    "    print(f\"Please provide proper src, not '{src}'\")\n",
    "\n",
    "db = get_db()\n",
    "\n",
    "from langchain.globals import set_debug\n",
    "set_debug(False)\n",
    "agent_executor = create_sql_agent(llm, db=db, agent_type=\"openai-tools\", verbose=False)"
   ]
  },
  {
   "cell_type": "code",
   "execution_count": 2,
   "metadata": {},
   "outputs": [
    {
     "data": {
      "text/plain": [
       "{'input': 'Which employee worked most hours? Just give me teh result.',\n",
       " 'output': 'The employee with ID 4 worked the most hours, with a total of 4444 hours.'}"
      ]
     },
     "execution_count": 2,
     "metadata": {},
     "output_type": "execute_result"
    }
   ],
   "source": [
    "query = \"How many horus were worked by which employee?\"\n",
    "query = \"Which employee worked most hours? Just give me teh result.\"\n",
    "agent_executor.invoke(query)"
   ]
  },
  {
   "cell_type": "code",
   "execution_count": null,
   "metadata": {},
   "outputs": [],
   "source": [
    "# problems here\n",
    "\n",
    "from llama_index.core import SQLDatabase\n",
    "from llama_index.core.query_engine import NLSQLTableQueryEngine\n",
    "import logging\n",
    "logging.basicConfig(level=logging.DEBUG)\n",
    "\n",
    "\n",
    "engine = get_engine()\n",
    "include_tables=[\"employee\", \"hours\"]\n",
    "schema = \"sch_employee\"\n",
    "sql_database = SQLDatabase(engine=engine, include_tables=include_tables, schema=schema)\n",
    "query_engine = NLSQLTableQueryEngine(sql_database=sql_database, tables = include_tables, verbose=True)\n",
    "\n",
    "query = \"Give ma a table of all employees and worked hours.\"\n",
    "r = query_engine.query(query)\n",
    "print(r)\n"
   ]
  },
  {
   "cell_type": "code",
   "execution_count": null,
   "metadata": {},
   "outputs": [],
   "source": [
    "query = \"Give ma a table of all employees and worked hours.\"\n",
    "query = \"Which tables from which schemas do you use?\"\n",
    "r = query_engine.query(query)\n",
    "print(r)"
   ]
  }
 ],
 "metadata": {
  "kernelspec": {
   "display_name": "venv312",
   "language": "python",
   "name": "python3"
  },
  "language_info": {
   "codemirror_mode": {
    "name": "ipython",
    "version": 3
   },
   "file_extension": ".py",
   "mimetype": "text/x-python",
   "name": "python",
   "nbconvert_exporter": "python",
   "pygments_lexer": "ipython3",
   "version": "3.12.1"
  }
 },
 "nbformat": 4,
 "nbformat_minor": 2
}
