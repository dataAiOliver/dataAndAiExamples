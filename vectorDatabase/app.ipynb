{
 "cells": [
  {
   "cell_type": "code",
   "execution_count": null,
   "metadata": {},
   "outputs": [],
   "source": [
    "import json\n",
    "import numpy as np\n",
    "import plotly.express as px\n",
    "from sentence_transformers import SentenceTransformer\n",
    "from sklearn.manifold import TSNE"
   ]
  },
  {
   "cell_type": "code",
   "execution_count": null,
   "metadata": {},
   "outputs": [],
   "source": [
    "with open('posts.json', 'r') as f:\n",
    "    posts = json.load(f)\n",
    "    \n",
    "# Load the pre-trained model\n",
    "model = SentenceTransformer('all-MiniLM-L6-v2')"
   ]
  },
  {
   "cell_type": "code",
   "execution_count": null,
   "metadata": {},
   "outputs": [],
   "source": [
    "# get embeddings per topic\n",
    "j_embeddings = {}\n",
    "for topic, v in posts.items():\n",
    "    j_embeddings[topic] = model.encode(posts[topic])"
   ]
  },
  {
   "cell_type": "code",
   "execution_count": null,
   "metadata": {},
   "outputs": [],
   "source": [
    "# combine embeddings in single array\n",
    "topics = [\"apple\", \"ai\", \"3dprinting\", \"bioinformatics\", \"beer\"]\n",
    "embeddings = np.vstack((j_embeddings[topics[0]], j_embeddings[topics[1]]))\n",
    "for topic in topics[2:]:\n",
    "    embeddings = np.vstack((embeddings, j_embeddings[topic]))"
   ]
  },
  {
   "cell_type": "code",
   "execution_count": null,
   "metadata": {},
   "outputs": [],
   "source": [
    "# Perform TSNE to reduce to 2 components\n",
    "tsne_model = TSNE(n_components=2, random_state=42)\n",
    "tsne_embeddings_values = tsne_model.fit_transform(embeddings)\n",
    "num_elements_per_topic = 51\n",
    "num_topics = int(embeddings.shape[0]/num_elements_per_topic)\n",
    "col_topics = [element for element in topics for _ in range(num_elements_per_topic)]\n",
    "\n",
    "fig = px.scatter(\n",
    "    x = tsne_embeddings_values[:,0], \n",
    "    y = tsne_embeddings_values[:,1],\n",
    "    color = col_topics,\n",
    ")\n",
    "\n",
    "fig.update_traces(marker=dict(size=13))  # Increase the marker size uniformly\n",
    "\n",
    "\n",
    "fig.update_layout(\n",
    "    xaxis=dict(showticklabels=False, title=''),\n",
    "    yaxis=dict(showticklabels=False, title=''),\n",
    "    showlegend=False,\n",
    "    autosize=False,\n",
    "    width=600,  # Width of the plot\n",
    "    height=600,  # Height of the plot\n",
    "    margin=dict(l=50, r=50, b=50, t=50, pad=4)  # Margins\n",
    ")\n",
    "fig.show()"
   ]
  },
  {
   "cell_type": "code",
   "execution_count": null,
   "metadata": {},
   "outputs": [],
   "source": [
    "import chromadb\n",
    "from pprint import pprint\n",
    "\n",
    "client = chromadb.Client()\n",
    "\n",
    "collection_name = \"stackoverflow-dump\"\n",
    "\n",
    "client.delete_collection(name=collection_name)\n",
    "\n",
    "collection = client.create_collection(\n",
    "      name=collection_name,\n",
    "      metadata={\"hnsw:space\": \"cosine\"}\n",
    "  )"
   ]
  },
  {
   "cell_type": "code",
   "execution_count": null,
   "metadata": {},
   "outputs": [],
   "source": [
    "collection.get()"
   ]
  },
  {
   "cell_type": "code",
   "execution_count": null,
   "metadata": {},
   "outputs": [],
   "source": [
    "for k in j_embeddings.keys():\n",
    "    print(f\"Add stuff for topic {k}\")\n",
    "    collection.add(\n",
    "        embeddings = j_embeddings[k],\n",
    "        documents=posts[k],\n",
    "        metadatas=[{\"topic\": k}]*num_elements_per_topic,\n",
    "        ids=[f\"{i:02}__{k}\" for i in range(num_elements_per_topic)],\n",
    "    )"
   ]
  },
  {
   "cell_type": "code",
   "execution_count": null,
   "metadata": {},
   "outputs": [],
   "source": [
    "collection.get()"
   ]
  },
  {
   "cell_type": "code",
   "execution_count": null,
   "metadata": {},
   "outputs": [],
   "source": [
    "results = collection.query(\n",
    "    query_texts=[\"What is in the sky?\"],\n",
    "    n_results=2,\n",
    ")\n",
    "\n",
    "pprint(results)"
   ]
  }
 ],
 "metadata": {
  "kernelspec": {
   "display_name": "venv312",
   "language": "python",
   "name": "python3"
  },
  "language_info": {
   "codemirror_mode": {
    "name": "ipython",
    "version": 3
   },
   "file_extension": ".py",
   "mimetype": "text/x-python",
   "name": "python",
   "nbconvert_exporter": "python",
   "pygments_lexer": "ipython3",
   "version": "3.12.1"
  }
 },
 "nbformat": 4,
 "nbformat_minor": 2
}
