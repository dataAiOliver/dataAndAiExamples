{
 "cells": [
  {
   "cell_type": "code",
   "execution_count": 1,
   "metadata": {},
   "outputs": [],
   "source": [
    "from dotenv import load_dotenv\n",
    "load_dotenv()\n",
    "\n",
    "##### LLAMAPARSE #####\n",
    "from llama_parse import LlamaParse\n",
    "\n",
    "from langchain.text_splitter import RecursiveCharacterTextSplitter\n",
    "from langchain_community.embeddings.fastembed import FastEmbedEmbeddings\n",
    "from langchain_community.vectorstores import Chroma\n",
    "from langchain_community.document_loaders import DirectoryLoader\n",
    "from langchain_community.document_loaders import UnstructuredMarkdownLoader\n",
    "from langchain.prompts import PromptTemplate\n",
    "from langchain.chains import RetrievalQA\n",
    "#\n",
    "from groq import Groq\n",
    "from langchain_groq import ChatGroq\n",
    "#\n",
    "import joblib\n",
    "import os\n",
    "import nest_asyncio  # noqa: E402\n",
    "nest_asyncio.apply()"
   ]
  },
  {
   "cell_type": "code",
   "execution_count": 2,
   "metadata": {},
   "outputs": [],
   "source": [
    "def load_or_parse_data():\n",
    "    data_file = \"./data/parsed_data.pkl\"\n",
    "\n",
    "    if os.path.exists(data_file):\n",
    "        # Load the parsed data from the file\n",
    "        parsed_data = joblib.load(data_file)\n",
    "    else:\n",
    "        # Perform the parsing step and store the result in llama_parse_documents\n",
    "        parsingInstructionUber10k = \"\"\"The provided document is a quarterly report filed by Uber Technologies,\n",
    "        Inc. with the Securities and Exchange Commission (SEC).\n",
    "        This form provides detailed financial information about the company's performance for a specific quarter.\n",
    "        It includes unaudited financial statements, management discussion and analysis, and other relevant disclosures required by the SEC.\n",
    "        It contains many tables.\n",
    "        Try to be precise while answering the questions\"\"\"\n",
    "        parser = LlamaParse(api_key=os.getenv(\"LLAMA_CLOUD_API_KEY\"),\n",
    "                            result_type=\"markdown\",\n",
    "                            parsing_instruction=parsingInstructionUber10k,\n",
    "                            max_timeout=5000,)\n",
    "        llama_parse_documents = parser.load_data(r\"C:\\Users\\oliver.koehn\\Documents\\gitProjects\\dataAndAiExamples\\ragComplexPdfs\\in\\Uber-Q4-22-Earnings-Press-Release.pdf\")\n",
    "\n",
    "\n",
    "        # Save the parsed data to a file\n",
    "        print(\"Saving the parse results in .pkl format ..........\")\n",
    "        joblib.dump(llama_parse_documents, data_file)\n",
    "\n",
    "        # Set the parsed data to the variable\n",
    "        parsed_data = llama_parse_documents\n",
    "\n",
    "    return parsed_data\n",
    "\n",
    "def remove_non_utf8_characters(source_file_path, cleaned_file_path):\n",
    "    with open(source_file_path, 'rb') as file:\n",
    "        bytes_data = file.read()\n",
    "\n",
    "    # Attempt to decode with 'utf-8' and replace errors with a space or nothing\n",
    "    clean_text = bytes_data.decode('utf-8', errors='replace')\n",
    "\n",
    "    # Write the cleaned text back to a new file\n",
    "    with open(cleaned_file_path, 'w', encoding='utf-8') as clean_file:\n",
    "        clean_file.write(clean_text)\n",
    "\n",
    "    print(f\"Cleaned file saved as {cleaned_file_path}\")\n",
    "\n",
    "# Create vector database\n",
    "def create_vector_database():\n",
    "    \"\"\"\n",
    "    Creates a vector database using document loaders and embeddings.\n",
    "\n",
    "    This function loads urls,\n",
    "    splits the loaded documents into chunks, transforms them into embeddings using OllamaEmbeddings,\n",
    "    and finally persists the embeddings into a Chroma vector database.\n",
    "\n",
    "    \"\"\"\n",
    "    # Call the function to either load or parse the data\n",
    "    llama_parse_documents = load_or_parse_data()\n",
    "    print(llama_parse_documents[0].text[:300])\n",
    "\n",
    "    markdown_path = \"data/output.md\"\n",
    "    with open(markdown_path, 'w') as f:  # Open the file in append mode ('a')\n",
    "        for doc in llama_parse_documents:\n",
    "            f.write(doc.text + '\\n')\n",
    "\n",
    "    remove_non_utf8_characters(markdown_path, markdown_path)\n",
    "    \n",
    "    loader = UnstructuredMarkdownLoader(markdown_path)\n",
    "\n",
    "   #loader = DirectoryLoader('data/', glob=\"**/*.md\", show_progress=True)\n",
    "    documents = loader.load()\n",
    "    # Split loaded documents into chunks\n",
    "    text_splitter = RecursiveCharacterTextSplitter(chunk_size=2000, chunk_overlap=100)\n",
    "    docs = text_splitter.split_documents(documents)\n",
    "\n",
    "    #len(docs)\n",
    "    print(f\"length of documents loaded: {len(documents)}\")\n",
    "    print(f\"total number of document chunks generated :{len(docs)}\")\n",
    "    #docs[0]\n",
    "\n",
    "    # Initialize Embeddings\n",
    "    embed_model = FastEmbedEmbeddings(model_name=\"BAAI/bge-base-en-v1.5\")\n",
    "\n",
    "    # Create and persist a Chroma vector database from the chunked documents\n",
    "    vs = Chroma.from_documents(\n",
    "        documents=docs,\n",
    "        embedding=embed_model,\n",
    "        persist_directory=\"chroma_db_llamaparse1\",  # Local mode with in-memory storage only\n",
    "        collection_name=\"rag\"\n",
    "    )\n",
    "\n",
    "    #query it\n",
    "    #query = \"what is the agend of Financial Statements for 2022 ?\"\n",
    "    #found_doc = qdrant.similarity_search(query, k=3)\n",
    "    #print(found_doc[0][:100])\n",
    "    #print(qdrant.get())\n",
    "\n",
    "    print('Vector DB created successfully !')\n",
    "    return vs,embed_model"
   ]
  },
  {
   "cell_type": "code",
   "execution_count": 3,
   "metadata": {},
   "outputs": [
    {
     "name": "stdout",
     "output_type": "stream",
     "text": [
      "# Uber Quarterly Report Q4 2022\n",
      "\n",
      "# Uber Quarterly Report Q4 2022\n",
      "\n",
      "## Financial Highlights for Fourth Quarter 2022\n",
      "\n",
      "- Gross Bookings grew 19% year-over-year to $30.7 billion, or 26% on a constant currency basis.\n",
      "- Revenue grew 49% YoY to $8.6 billion, or 59% on a constant currency basis.\n",
      "- Net income\n",
      "Cleaned file saved as data/output.md\n",
      "length of documents loaded: 1\n",
      "total number of document chunks generated :15\n"
     ]
    },
    {
     "name": "stderr",
     "output_type": "stream",
     "text": [
      "c:\\Users\\oliver.koehn\\Documents\\gitProjects\\dataAndAiExamples\\venv312\\Lib\\site-packages\\tqdm\\auto.py:21: TqdmWarning: IProgress not found. Please update jupyter and ipywidgets. See https://ipywidgets.readthedocs.io/en/stable/user_install.html\n",
      "  from .autonotebook import tqdm as notebook_tqdm\n",
      "Fetching 8 files: 100%|██████████| 8/8 [00:00<?, ?it/s]\n"
     ]
    },
    {
     "name": "stdout",
     "output_type": "stream",
     "text": [
      "Vector DB created successfully !\n"
     ]
    }
   ],
   "source": [
    "import os\n",
    "vs,embed_model = create_vector_database()"
   ]
  },
  {
   "cell_type": "code",
   "execution_count": 4,
   "metadata": {},
   "outputs": [],
   "source": [
    "chat_model = ChatGroq(temperature=0,\n",
    "                      model_name=\"mixtral-8x7b-32768\",\n",
    "                      api_key=os.getenv(\"GROQ_API_KEY\"),)"
   ]
  },
  {
   "cell_type": "code",
   "execution_count": 5,
   "metadata": {},
   "outputs": [],
   "source": [
    "vectorstore = Chroma(embedding_function=embed_model,\n",
    "                      persist_directory=\"chroma_db_llamaparse1\",\n",
    "                      collection_name=\"rag\")\n",
    " #\n",
    "retriever=vectorstore.as_retriever(search_kwargs={'k': 3})"
   ]
  },
  {
   "cell_type": "code",
   "execution_count": 6,
   "metadata": {},
   "outputs": [],
   "source": [
    "custom_prompt_template = \"\"\"Use the following pieces of information to answer the user's question.\n",
    "If you don't know the answer, just say that you don't know, don't try to make up an answer.\n",
    "\n",
    "Context: {context}\n",
    "Question: {question}\n",
    "\n",
    "Only return the helpful answer below and nothing else.\n",
    "Helpful answer:\n",
    "\"\"\""
   ]
  },
  {
   "cell_type": "code",
   "execution_count": 7,
   "metadata": {},
   "outputs": [
    {
     "data": {
      "text/plain": [
       "PromptTemplate(input_variables=['context', 'question'], template=\"Use the following pieces of information to answer the user's question.\\nIf you don't know the answer, just say that you don't know, don't try to make up an answer.\\n\\nContext: {context}\\nQuestion: {question}\\n\\nOnly return the helpful answer below and nothing else.\\nHelpful answer:\\n\")"
      ]
     },
     "execution_count": 7,
     "metadata": {},
     "output_type": "execute_result"
    }
   ],
   "source": [
    "def set_custom_prompt():\n",
    "    \"\"\"\n",
    "    Prompt template for QA retrieval for each vectorstore\n",
    "    \"\"\"\n",
    "    prompt = PromptTemplate(template=custom_prompt_template,\n",
    "                            input_variables=['context', 'question'])\n",
    "    return prompt\n",
    "#\n",
    "prompt = set_custom_prompt()\n",
    "prompt\n",
    "\n",
    "########################### RESPONSE ###########################\n",
    "PromptTemplate(input_variables=['context', 'question'], template=custom_prompt_template)"
   ]
  },
  {
   "cell_type": "code",
   "execution_count": 8,
   "metadata": {},
   "outputs": [],
   "source": [
    "qa = RetrievalQA.from_chain_type(llm=chat_model,\n",
    "                               chain_type=\"stuff\",\n",
    "                               retriever=retriever,\n",
    "                               return_source_documents=True,\n",
    "                               chain_type_kwargs={\"prompt\": prompt})"
   ]
  },
  {
   "cell_type": "code",
   "execution_count": 9,
   "metadata": {},
   "outputs": [
    {
     "data": {
      "text/plain": [
       "{'query': 'What is the sehment adjusted ebitda of mobility end of 2021 and 2022?',\n",
       " 'result': 'The Segment Adjusted EBITDA for Mobility was $575 million at the end of 2021 and $1,012 million at the end of 2022, representing a 76% increase.',\n",
       " 'source_documents': [Document(page_content='| |Three Months Ended December 31|% Change|% Change (Constant Currency)|\\n\\n|---|---|---|---|\\n\\n|Mobility|$11,340|$14,894|31%|37%|\\n\\n|Delivery|$13,444|$14,315|6%|14%|\\n\\n|Freight (1)|$1,082|$1,540|42%|43%|\\n\\n|Total|$25,866|$30,749|19%|26%|\\n\\n(1) Beginning in Q4 2021, Freight Gross Bookings include contributions from the acquisition of Transplace which closed on November 12, 2021.\\n\\n| |Three Months Ended December 31|% Change|% Change (Constant Currency)|\\n\\n|---|---|---|---|\\n\\n|Mobility (1)|$2,278|$4,136|82%|94%|\\n\\n|Delivery (2)|$2,420|$2,931|21%|33%|\\n\\n|Freight (3)|$1,080|$1,540|43%|43%|\\n\\n|Total|$5,778|$8,607|49%|59%|\\n\\n(1) Mobility Revenue in Q4 2022 benefited by a net amount of $1.2 billion from business model changes in the UK.\\n\\n(2) Delivery Revenue in Q4 2021 and Q4 2022 benefited from business model changes in some countries that classify certain payments and incentives as cost of revenue by $548 million and $686 million, respectively.\\n\\n(3) Freight Revenue includes contributions from the acquisition of Transplace which closed on November 12, 2021.\\n\\n| |Three Months Ended December 31|\\n\\n|---|---|\\n\\n|Mobility (1)|20.1%|27.8%|\\n\\n|Delivery (2)|18.0%|20.5%|\\n\\n(1) Mobility Take Rate in Q4 2022 includes an 800 bps net benefit from business model changes in the UK. Excluding this impact, Mobility Take Rate would be 19.8%. Mobility Take Rate was also adversely impacted by pass-through fuel surcharges implemented through Q4 2022 in various markets globally.\\n\\n(2) Delivery Take Rate in Q4 2021 and Q4 2022 benefited from business model changes in some countries that classify certain payments and incentives as cost of revenue by 410 bps and 480 bps, respectively.\\n\\nUber Quarterly Report\\n\\nUber Quarterly Report\\n\\nAdjusted EBITDA and Segment Adjusted EBITDA\\n\\n| |Three Months Ended December 31, 2021|2022|% Change|\\n\\n|---|---|---|---|\\n\\n|Segment Adjusted EBITDA:|$575|$1,012|76%|\\n\\n|Mobility|$575|$1,012|76%|\\n\\n|Delivery|$25|$241|**|\\n\\n|Freight|($25)|($8)|68%|', metadata={'source': 'data/output.md'}),\n",
       "  Document(page_content='| |Three Months Ended December 31|% Change|% Change (Constant Currency)|\\n\\n|---|---|---|---|\\n\\n|Mobility|$11,340|$14,894|31%|37%|\\n\\n|Delivery|$13,444|$14,315|6%|14%|\\n\\n|Freight (1)|$1,082|$1,540|42%|43%|\\n\\n|Total|$25,866|$30,749|19%|26%|\\n\\n(1) Beginning in Q4 2021, Freight Gross Bookings include contributions from the acquisition of Transplace which closed on November 12, 2021.\\n\\n| |Three Months Ended December 31|% Change|% Change (Constant Currency)|\\n\\n|---|---|---|---|\\n\\n|Mobility (1)|$2,278|$4,136|82%|94%|\\n\\n|Delivery (2)|$2,420|$2,931|21%|33%|\\n\\n|Freight (3)|$1,080|$1,540|43%|43%|\\n\\n|Total|$5,778|$8,607|49%|59%|\\n\\n(1) Mobility Revenue in Q4 2022 benefited by a net amount of $1.2 billion from business model changes in the UK.\\n\\n(2) Delivery Revenue in Q4 2021 and Q4 2022 benefited from business model changes in some countries that classify certain payments and incentives as cost of revenue by $548 million and $686 million, respectively.\\n\\n(3) Freight Revenue includes contributions from the acquisition of Transplace which closed on November 12, 2021.\\n\\n| |Three Months Ended December 31|\\n\\n|---|---|\\n\\n|Mobility (1)|20.1%|27.8%|\\n\\n|Delivery (2)|18.0%|20.5%|\\n\\n(1) Mobility Take Rate in Q4 2022 includes an 800 bps net benefit from business model changes in the UK. Excluding this impact, Mobility Take Rate would be 19.8%. Mobility Take Rate was also adversely impacted by pass-through fuel surcharges implemented through Q4 2022 in various markets globally.\\n\\n(2) Delivery Take Rate in Q4 2021 and Q4 2022 benefited from business model changes in some countries that classify certain payments and incentives as cost of revenue by 410 bps and 480 bps, respectively.\\n\\nUber Quarterly Report\\n\\nUber Quarterly Report\\n\\nAdjusted EBITDA and Segment Adjusted EBITDA\\n\\n| |Three Months Ended December 31, 2021|2022|% Change|\\n\\n|---|---|---|---|\\n\\n|Segment Adjusted EBITDA:|$575|$1,012|76%|\\n\\n|Mobility|$575|$1,012|76%|\\n\\n|Delivery|$25|$241|**|\\n\\n|Freight|($25)|($8)|68%|', metadata={'source': 'data/output.md'}),\n",
       "  Document(page_content='| |Three Months Ended December 31|% Change|% Change (Constant Currency)|\\n\\n|---|---|---|---|\\n\\n|Mobility|$11,340|$14,894|31%|37%|\\n\\n|Delivery|$13,444|$14,315|6%|14%|\\n\\n|Freight (1)|$1,082|$1,540|42%|43%|\\n\\n|Total|$25,866|$30,749|19%|26%|\\n\\n(1) Beginning in Q4 2021, Freight Gross Bookings include contributions from the acquisition of Transplace which closed on November 12, 2021.\\n\\n| |Three Months Ended December 31|% Change|% Change (Constant Currency)|\\n\\n|---|---|---|---|\\n\\n|Mobility (1)|$2,278|$4,136|82%|94%|\\n\\n|Delivery (2)|$2,420|$2,931|21%|33%|\\n\\n|Freight (3)|$1,080|$1,540|43%|43%|\\n\\n|Total|$5,778|$8,607|49%|59%|\\n\\n(1) Mobility Revenue in Q4 2022 benefited by a net amount of $1.2 billion from business model changes in the UK.\\n\\n(2) Delivery Revenue in Q4 2021 and Q4 2022 benefited from business model changes in some countries that classify certain payments and incentives as cost of revenue by $548 million and $686 million, respectively.\\n\\n(3) Freight Revenue includes contributions from the acquisition of Transplace which closed on November 12, 2021.\\n\\n| |Three Months Ended December 31|\\n\\n|---|---|\\n\\n|Mobility (1)|20.1%|27.8%|\\n\\n|Delivery (2)|18.0%|20.5%|\\n\\n(1) Mobility Take Rate in Q4 2022 includes an 800 bps net benefit from business model changes in the UK. Excluding this impact, Mobility Take Rate would be 19.8%. Mobility Take Rate was also adversely impacted by pass-through fuel surcharges implemented through Q4 2022 in various markets globally.\\n\\n(2) Delivery Take Rate in Q4 2021 and Q4 2022 benefited from business model changes in some countries that classify certain payments and incentives as cost of revenue by 410 bps and 480 bps, respectively.\\n\\nUber Quarterly Report\\n\\nUber Quarterly Report\\n\\nAdjusted EBITDA and Segment Adjusted EBITDA\\n\\n| |Three Months Ended December 31, 2021|2022|% Change|\\n\\n|---|---|---|---|\\n\\n|Segment Adjusted EBITDA:|$575|$1,012|76%|\\n\\n|Mobility|$575|$1,012|76%|\\n\\n|Delivery|$25|$241|**|\\n\\n|Freight|($25)|($8)|68%|', metadata={'source': 'data/output.md'})]}"
      ]
     },
     "execution_count": 9,
     "metadata": {},
     "output_type": "execute_result"
    }
   ],
   "source": [
    "response = qa.invoke({\"query\": \"What is the sehment adjusted ebitda of mobility end of 2021 and 2022?\"})\n",
    "response"
   ]
  },
  {
   "cell_type": "code",
   "execution_count": 12,
   "metadata": {},
   "outputs": [
    {
     "data": {
      "text/plain": [
       "{'query': 'What are teh numbers regarding Bad debt expense?',\n",
       " 'result': 'Bad debt expense for the years ended December 31, 2021 and 2022 was $109 and $114, respectively.\\nFor the three months ended December 31, 2021 and 2022, bad debt expense was $34 and $38, respectively.',\n",
       " 'source_documents': [Document(page_content='($550)\\n\\n($3,834)\\n\\nInterest Expense\\n\\n($130)\\n\\n($483)\\n\\nOther Income (Expense), Net\\n\\n$1,471\\n\\n$3,292\\n\\nIncome (Loss) Before Income Taxes\\n\\n$791\\n\\n($1,025)\\n\\nNet Income (Loss) Attributable to Uber Technologies, Inc.\\n\\n$892\\n\\n($496)\\n\\nNet Income (Loss) Per Share\\n\\nBasic\\n\\n$0.46\\n\\n($0.26)\\n\\nDiluted\\n\\n$0.44\\n\\n($0.29)\\n\\nWeighted-average shares used to compute net income per share: Basic - 1,936,736 (2021) and 1,994,800 (2022), Diluted - 2,005,591 (2021) and 2,060,575 (2022).\\n\\nUber Technologies, Inc. - Quarterly Report\\n\\nUber Technologies, Inc. - Condensed Consolidated Statements of Cash Flows\\n\\nThree Months Ended December 31, 2021\\n\\nThree Months Ended December 31, 2022\\n\\nYear Ended December 31, 2021\\n\\nYear Ended December 31, 2022\\n\\nNet income (loss) including non-controlling interests\\n\\n$879\\n\\n$600\\n\\n($570)\\n\\n($9,138)\\n\\nAdjustments to reconcile net income (loss) to net cash provided by (used in) operating activities:\\n\\nDepreciation and amortization\\n\\n246\\n\\n223\\n\\n902\\n\\n947\\n\\nBad debt expense\\n\\n34\\n\\n38\\n\\n109\\n\\n114\\n\\nStock-based compensation\\n\\n334\\n\\n482\\n\\n1,168\\n\\n1,793\\n\\nGain from sale of investments\\n\\n($242)\\n\\n($413)\\n\\nGain on business divestitures, net\\n\\n($1,684)\\n\\n($14)\\n\\nDeferred income taxes\\n\\n($210)\\n\\n($190)\\n\\n($692)\\n\\n($441)\\n\\nImpairments of goodwill, long-lived assets and other assets\\n\\n100\\n\\n13\\n\\n116\\n\\n28\\n\\nImpairment of equity method investment\\n\\n182\\n\\nLoss (income) from equity method investments, net\\n\\n($42)\\n\\n37\\n\\n($107)\\n\\nUnrealized (gain) loss on debt and equity securities, net\\n\\n($1,198)\\n\\n($752)\\n\\n($1,142)\\n\\n$7,045\\n\\nRevaluation of MLU B.V. call option\\n\\n($11)\\n\\n($191)\\n\\nUnrealized foreign currency transactions\\n\\n26\\n\\n71\\n\\n38\\n\\n96\\n\\nOther\\n\\n($46)\\n\\n($12)\\n\\n($7)\\n\\nChange in assets and liabilities, net of impact of business acquisitions and disposals:\\n\\nAccounts receivable\\n\\n($243)\\n\\n($323)\\n\\n($597)\\n\\n($542)\\n\\nPrepaid expenses and other assets\\n\\n($7)\\n\\n($139)\\n\\n($236)\\n\\n($196)\\n\\nCollateral held by insurer\\n\\n860\\n\\nOperating lease right-of-use assets\\n\\n49\\n\\n51\\n\\n165\\n\\n193\\n\\nAccounts payable\\n\\n19\\n\\n($53)\\n\\n90\\n\\n($133)\\n\\nAccrued insurance reserves\\n\\n26\\n\\n251\\n\\n516\\n\\n736', metadata={'source': 'data/output.md'}),\n",
       "  Document(page_content='($550)\\n\\n($3,834)\\n\\nInterest Expense\\n\\n($130)\\n\\n($483)\\n\\nOther Income (Expense), Net\\n\\n$1,471\\n\\n$3,292\\n\\nIncome (Loss) Before Income Taxes\\n\\n$791\\n\\n($1,025)\\n\\nNet Income (Loss) Attributable to Uber Technologies, Inc.\\n\\n$892\\n\\n($496)\\n\\nNet Income (Loss) Per Share\\n\\nBasic\\n\\n$0.46\\n\\n($0.26)\\n\\nDiluted\\n\\n$0.44\\n\\n($0.29)\\n\\nWeighted-average shares used to compute net income per share: Basic - 1,936,736 (2021) and 1,994,800 (2022), Diluted - 2,005,591 (2021) and 2,060,575 (2022).\\n\\nUber Technologies, Inc. - Quarterly Report\\n\\nUber Technologies, Inc. - Condensed Consolidated Statements of Cash Flows\\n\\nThree Months Ended December 31, 2021\\n\\nThree Months Ended December 31, 2022\\n\\nYear Ended December 31, 2021\\n\\nYear Ended December 31, 2022\\n\\nNet income (loss) including non-controlling interests\\n\\n$879\\n\\n$600\\n\\n($570)\\n\\n($9,138)\\n\\nAdjustments to reconcile net income (loss) to net cash provided by (used in) operating activities:\\n\\nDepreciation and amortization\\n\\n246\\n\\n223\\n\\n902\\n\\n947\\n\\nBad debt expense\\n\\n34\\n\\n38\\n\\n109\\n\\n114\\n\\nStock-based compensation\\n\\n334\\n\\n482\\n\\n1,168\\n\\n1,793\\n\\nGain from sale of investments\\n\\n($242)\\n\\n($413)\\n\\nGain on business divestitures, net\\n\\n($1,684)\\n\\n($14)\\n\\nDeferred income taxes\\n\\n($210)\\n\\n($190)\\n\\n($692)\\n\\n($441)\\n\\nImpairments of goodwill, long-lived assets and other assets\\n\\n100\\n\\n13\\n\\n116\\n\\n28\\n\\nImpairment of equity method investment\\n\\n182\\n\\nLoss (income) from equity method investments, net\\n\\n($42)\\n\\n37\\n\\n($107)\\n\\nUnrealized (gain) loss on debt and equity securities, net\\n\\n($1,198)\\n\\n($752)\\n\\n($1,142)\\n\\n$7,045\\n\\nRevaluation of MLU B.V. call option\\n\\n($11)\\n\\n($191)\\n\\nUnrealized foreign currency transactions\\n\\n26\\n\\n71\\n\\n38\\n\\n96\\n\\nOther\\n\\n($46)\\n\\n($12)\\n\\n($7)\\n\\nChange in assets and liabilities, net of impact of business acquisitions and disposals:\\n\\nAccounts receivable\\n\\n($243)\\n\\n($323)\\n\\n($597)\\n\\n($542)\\n\\nPrepaid expenses and other assets\\n\\n($7)\\n\\n($139)\\n\\n($236)\\n\\n($196)\\n\\nCollateral held by insurer\\n\\n860\\n\\nOperating lease right-of-use assets\\n\\n49\\n\\n51\\n\\n165\\n\\n193\\n\\nAccounts payable\\n\\n19\\n\\n($53)\\n\\n90\\n\\n($133)\\n\\nAccrued insurance reserves\\n\\n26\\n\\n251\\n\\n516\\n\\n736', metadata={'source': 'data/output.md'}),\n",
       "  Document(page_content='($550)\\n\\n($3,834)\\n\\nInterest Expense\\n\\n($130)\\n\\n($483)\\n\\nOther Income (Expense), Net\\n\\n$1,471\\n\\n$3,292\\n\\nIncome (Loss) Before Income Taxes\\n\\n$791\\n\\n($1,025)\\n\\nNet Income (Loss) Attributable to Uber Technologies, Inc.\\n\\n$892\\n\\n($496)\\n\\nNet Income (Loss) Per Share\\n\\nBasic\\n\\n$0.46\\n\\n($0.26)\\n\\nDiluted\\n\\n$0.44\\n\\n($0.29)\\n\\nWeighted-average shares used to compute net income per share: Basic - 1,936,736 (2021) and 1,994,800 (2022), Diluted - 2,005,591 (2021) and 2,060,575 (2022).\\n\\nUber Technologies, Inc. - Quarterly Report\\n\\nUber Technologies, Inc. - Condensed Consolidated Statements of Cash Flows\\n\\nThree Months Ended December 31, 2021\\n\\nThree Months Ended December 31, 2022\\n\\nYear Ended December 31, 2021\\n\\nYear Ended December 31, 2022\\n\\nNet income (loss) including non-controlling interests\\n\\n$879\\n\\n$600\\n\\n($570)\\n\\n($9,138)\\n\\nAdjustments to reconcile net income (loss) to net cash provided by (used in) operating activities:\\n\\nDepreciation and amortization\\n\\n246\\n\\n223\\n\\n902\\n\\n947\\n\\nBad debt expense\\n\\n34\\n\\n38\\n\\n109\\n\\n114\\n\\nStock-based compensation\\n\\n334\\n\\n482\\n\\n1,168\\n\\n1,793\\n\\nGain from sale of investments\\n\\n($242)\\n\\n($413)\\n\\nGain on business divestitures, net\\n\\n($1,684)\\n\\n($14)\\n\\nDeferred income taxes\\n\\n($210)\\n\\n($190)\\n\\n($692)\\n\\n($441)\\n\\nImpairments of goodwill, long-lived assets and other assets\\n\\n100\\n\\n13\\n\\n116\\n\\n28\\n\\nImpairment of equity method investment\\n\\n182\\n\\nLoss (income) from equity method investments, net\\n\\n($42)\\n\\n37\\n\\n($107)\\n\\nUnrealized (gain) loss on debt and equity securities, net\\n\\n($1,198)\\n\\n($752)\\n\\n($1,142)\\n\\n$7,045\\n\\nRevaluation of MLU B.V. call option\\n\\n($11)\\n\\n($191)\\n\\nUnrealized foreign currency transactions\\n\\n26\\n\\n71\\n\\n38\\n\\n96\\n\\nOther\\n\\n($46)\\n\\n($12)\\n\\n($7)\\n\\nChange in assets and liabilities, net of impact of business acquisitions and disposals:\\n\\nAccounts receivable\\n\\n($243)\\n\\n($323)\\n\\n($597)\\n\\n($542)\\n\\nPrepaid expenses and other assets\\n\\n($7)\\n\\n($139)\\n\\n($236)\\n\\n($196)\\n\\nCollateral held by insurer\\n\\n860\\n\\nOperating lease right-of-use assets\\n\\n49\\n\\n51\\n\\n165\\n\\n193\\n\\nAccounts payable\\n\\n19\\n\\n($53)\\n\\n90\\n\\n($133)\\n\\nAccrued insurance reserves\\n\\n26\\n\\n251\\n\\n516\\n\\n736', metadata={'source': 'data/output.md'})]}"
      ]
     },
     "execution_count": 12,
     "metadata": {},
     "output_type": "execute_result"
    }
   ],
   "source": [
    "response = qa.invoke({\"query\": \"What are teh numbers regarding Bad debt expense?\"})\n",
    "response"
   ]
  }
 ],
 "metadata": {
  "kernelspec": {
   "display_name": "venv312",
   "language": "python",
   "name": "python3"
  },
  "language_info": {
   "codemirror_mode": {
    "name": "ipython",
    "version": 3
   },
   "file_extension": ".py",
   "mimetype": "text/x-python",
   "name": "python",
   "nbconvert_exporter": "python",
   "pygments_lexer": "ipython3",
   "version": "3.12.1"
  }
 },
 "nbformat": 4,
 "nbformat_minor": 2
}
