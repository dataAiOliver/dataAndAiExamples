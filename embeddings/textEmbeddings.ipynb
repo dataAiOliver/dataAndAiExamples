{
 "cells": [
  {
   "cell_type": "code",
   "execution_count": null,
   "metadata": {},
   "outputs": [],
   "source": [
    "import xml.etree.ElementTree as ET\n",
    "import os, json, plotly, tqdm\n",
    "import numpy as np\n",
    "from sklearn.decomposition import PCA\n",
    "import plotly.express as px\n",
    "from sentence_transformers import SentenceTransformer\n",
    "import pandas as pd\n",
    "from sklearn.manifold import TSNE\n",
    "from sklearn.cluster import KMeans\n",
    "from sklearn.metrics import silhouette_score\n",
    "\n",
    "def get_posts_or_topics(base_path = rf\"C:\\Users\\{os.getlogin()}\\Downloads\", topics = [\"apple\", \"astronomy\", \"ai\", \"3dprinting\", \"bioinformatics\", \"beer\"]):\n",
    "\n",
    "    posts = {}\n",
    "    for topic in topics:\n",
    "        print(f\"WORKING ON TOPIC '{topic}'\")\n",
    "        # Parse the XML file\n",
    "        tree = ET.parse(rf\"{base_path}\\{topic}.stackexchange.com\\Posts.xml\")\n",
    "        root = tree.getroot()\n",
    "\n",
    "        # Iterate over each row element and extract the Body attribute\n",
    "        ct = 0\n",
    "        posts[topic] = []\n",
    "        for row in root.findall('row'):\n",
    "            body = row.get('Body')\n",
    "            posts[topic].append(body)\n",
    "            ct = ct + 1\n",
    "            if ct > 50:\n",
    "                break\n",
    "\n",
    "    return posts\n"
   ]
  },
  {
   "cell_type": "code",
   "execution_count": null,
   "metadata": {},
   "outputs": [],
   "source": [
    "# use to get data\n",
    "if 1 == 2:\n",
    "    posts = get_posts_or_topics()\n",
    "    with open('posts.json', 'w') as file:\n",
    "        json.dump(posts, file, indent=4)"
   ]
  },
  {
   "cell_type": "code",
   "execution_count": null,
   "metadata": {},
   "outputs": [],
   "source": [
    "with open('posts.json', 'r') as f:\n",
    "    posts = json.load(f)"
   ]
  },
  {
   "cell_type": "code",
   "execution_count": null,
   "metadata": {},
   "outputs": [],
   "source": [
    "# Load the pre-trained model\n",
    "model = SentenceTransformer('all-MiniLM-L6-v2')"
   ]
  },
  {
   "cell_type": "code",
   "execution_count": null,
   "metadata": {},
   "outputs": [],
   "source": [
    "# get embeddings per topic\n",
    "j_embeddings = {}\n",
    "for topic, v in posts.items():\n",
    "    j_embeddings[topic] = model.encode(posts[topic])"
   ]
  },
  {
   "cell_type": "code",
   "execution_count": null,
   "metadata": {},
   "outputs": [],
   "source": [
    "# combine embeddings in single array\n",
    "topics = [\"apple\", \"ai\", \"3dprinting\", \"bioinformatics\", \"beer\"]\n",
    "embeddings = np.vstack((j_embeddings[topics[0]], j_embeddings[topics[1]]))\n",
    "for topic in topics[2:]:\n",
    "    embeddings = np.vstack((embeddings, j_embeddings[topic]))"
   ]
  },
  {
   "cell_type": "code",
   "execution_count": null,
   "metadata": {},
   "outputs": [],
   "source": [
    "# get vector for topics\n",
    "num_elements_per_topic = 51\n",
    "num_topics = int(embeddings.shape[0]/num_elements_per_topic)\n",
    "colors = [\"red\", \"blue\", \"green\", \"cyan\", \"magenta\", \"black\", \"yellow\"][:num_topics]\n",
    "col_topics = [element for element in topics for _ in range(num_elements_per_topic)]"
   ]
  },
  {
   "cell_type": "code",
   "execution_count": null,
   "metadata": {},
   "outputs": [],
   "source": [
    "# Perform PCA to reduce to 3 components\n",
    "pca = PCA(n_components=3)\n",
    "reduced_data = pca.fit_transform(embeddings)\n",
    "\n",
    "df = pd.DataFrame(reduced_data, columns=['PC1', 'PC2', 'PC3'])\n",
    "df['labels'] = col_topics\n",
    "\n",
    "# Create an interactive 3D scatter plot\n",
    "fig = px.scatter_3d(df, x='PC1', y='PC2', z='PC3', color='labels')\n",
    "\n",
    "fig.update_traces(marker=dict(size=5))\n",
    "fig.update_layout(\n",
    "    scene=dict(\n",
    "        xaxis=dict(showticklabels=False, title=''),\n",
    "        yaxis=dict(showticklabels=False, title=''),\n",
    "        zaxis=dict(showticklabels=False, title='')\n",
    "    ), showlegend=False\n",
    ")\n",
    "fig.show()"
   ]
  },
  {
   "cell_type": "code",
   "execution_count": null,
   "metadata": {},
   "outputs": [],
   "source": [
    "# Perform TSNE to reduce to 2 components\n",
    "tsne_model = TSNE(n_components=2, random_state=42)\n",
    "tsne_embeddings_values = tsne_model.fit_transform(embeddings)\n",
    "\n",
    "fig = px.scatter(\n",
    "    x = tsne_embeddings_values[:,0], \n",
    "    y = tsne_embeddings_values[:,1],\n",
    "    color = col_topics,\n",
    ")\n",
    "\n",
    "fig.update_layout(\n",
    "    xaxis=dict(showticklabels=False, title=''),\n",
    "    yaxis=dict(showticklabels=False, title=''),\n",
    "    showlegend=False\n",
    ")\n",
    "fig.show()"
   ]
  },
  {
   "cell_type": "code",
   "execution_count": null,
   "metadata": {},
   "outputs": [],
   "source": [
    "silhouette_scores = []\n",
    "kmeans_labels = {}\n",
    "for k in tqdm.tqdm(range(2, 12)):\n",
    "    kmeans = KMeans(n_clusters=k, \n",
    "                    random_state=42, \n",
    "                    n_init = 'auto').fit(embeddings)\n",
    "    kmeans_labels[k] = kmeans.labels_\n",
    "    silhouette_scores.append(\n",
    "        {\n",
    "            'k': k,\n",
    "            'silhouette_score': silhouette_score(embeddings, \n",
    "                kmeans_labels[k], metric = 'cosine')\n",
    "        }\n",
    "    )\n",
    "\n",
    "fig = px.line(pd.DataFrame(silhouette_scores).set_index('k'),\n",
    "       title = '<b>Silhouette scores for K-means clustering</b>',\n",
    "       labels = {'value': 'silhoutte score'}, \n",
    "       color_discrete_sequence = plotly.colors.qualitative.Alphabet)\n",
    "fig.update_layout(showlegend = False)\n",
    "\n"
   ]
  }
 ],
 "metadata": {
  "kernelspec": {
   "display_name": "venv312",
   "language": "python",
   "name": "python3"
  },
  "language_info": {
   "codemirror_mode": {
    "name": "ipython",
    "version": 3
   },
   "file_extension": ".py",
   "mimetype": "text/x-python",
   "name": "python",
   "nbconvert_exporter": "python",
   "pygments_lexer": "ipython3",
   "version": "3.12.1"
  }
 },
 "nbformat": 4,
 "nbformat_minor": 2
}
