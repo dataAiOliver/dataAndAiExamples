{
 "cells": [
  {
   "cell_type": "code",
   "execution_count": null,
   "metadata": {},
   "outputs": [],
   "source": [
    "# import stuff\n",
    "import gensim.downloader as api\n",
    "import numpy as np\n",
    "from sklearn.metrics.pairwise import cosine_similarity\n",
    "import seaborn as sns\n",
    "from sklearn.decomposition import PCA\n",
    "import matplotlib.pyplot as plt\n",
    "from sklearn.cluster import KMeans\n",
    "from sklearn.metrics import silhouette_score\n",
    "import pandas as pd\n",
    "import plotly.express as px\n",
    "import plotly, tqdm\n",
    "\n",
    "words_full = [\"king\", \"queen\", \"man\", \"woman\", 'happy', 'sad', 'joyful', 'nice', 'apple', 'banana', 'cherry', 'strawberry', 'fork', 'spoon', 'knife', \"cutlery\", 'moon', 'sun', \"planet\", \"star\"]\n",
    "model = api.load('word2vec-google-news-300')\n",
    "word_embeddings_full = {w : model[w] for w in words_full}"
   ]
  },
  {
   "cell_type": "code",
   "execution_count": null,
   "metadata": {},
   "outputs": [],
   "source": [
    "word_embeddings_full[\"king\"].shape"
   ]
  },
  {
   "cell_type": "code",
   "execution_count": null,
   "metadata": {},
   "outputs": [],
   "source": [
    "# example cosine similarity with 3 simple vectors\n",
    "v_100 = np.array([1, 0, 0]).reshape(1, -1)\n",
    "v_m100 = np.array([-1, 0, 0]).reshape(1, -1)\n",
    "v_010 = np.array([0, 1, 0]).reshape(1, -1)\n",
    "v_200 = np.array([2, 0, 0]).reshape(1, -1)\n",
    "print(f\"SIMILARITY BETWEEN 1 0 0 AND 1 0 0: {cosine_similarity(v_100, v_100)}\")\n",
    "print(f\"SIMILARITY BETWEEN 1 0 0 AND 0 1 0: {cosine_similarity(v_100, v_010)}\")\n",
    "print(f\"SIMILARITY BETWEEN 1 0 0 AND 2 0 0: {cosine_similarity(v_100, v_200)}\")\n",
    "print(f\"SIMILARITY BETWEEN 1 0 0 AND -1 0 0: {cosine_similarity(v_100, v_m100)}\")"
   ]
  },
  {
   "cell_type": "code",
   "execution_count": null,
   "metadata": {},
   "outputs": [],
   "source": [
    "# example cosinbe similarity with embeddings\n",
    "v_q = word_embeddings_full[\"queen\"].reshape(1, -1)\n",
    "v_k = word_embeddings_full[\"king\"].reshape(1, -1)\n",
    "v_m = word_embeddings_full[\"man\"].reshape(1, -1)\n",
    "v_w = word_embeddings_full[\"woman\"].reshape(1, -1)\n",
    "v_s = word_embeddings_full[\"strawberry\"].reshape(1, -1)\n",
    "v_a = word_embeddings_full[\"apple\"].reshape(1, -1)\n",
    "print(f\"SIMILARITY BETWEEN MAN AND WOMAN: {cosine_similarity(v_m, v_w)}\")\n",
    "print(f\"SIMILARITY BETWEEN KING AND QUEEN: {cosine_similarity(v_k, v_q)}\")\n",
    "print(f\"SIMILARITY BETWEEN (KING - MAN + WOMAN) AND QUEEN: {cosine_similarity(v_k-v_m + v_w, v_q)}\")\n",
    "print(f\"SIMILARITY BETWEEN KING AND STRAWBERRY: {cosine_similarity(v_k, v_s)}\")\n",
    "print(f\"SIMILARITY BETWEEN APPLE AND STRAWBERRY: {cosine_similarity(v_a, v_s)}\")"
   ]
  },
  {
   "cell_type": "code",
   "execution_count": null,
   "metadata": {
    "metadata": {}
   },
   "outputs": [],
   "source": [
    "# visualize similarity of embeddings in heatmap\n",
    "\n",
    "words = words_full[4:]\n",
    "word_embeddings = {k:v for k, v in word_embeddings_full.items() if k in words}\n",
    "\n",
    "embedding_matrix = np.array(list(word_embeddings.values()))\n",
    "embedding_matrix.shape\n",
    "similarity_matrix = cosine_similarity(embedding_matrix)\n",
    "\n",
    "plt.figure(figsize=(10, 8))\n",
    "sns.heatmap(similarity_matrix, annot=True, fmt=\".2f\", cmap='viridis', cbar=True\n",
    "            , xticklabels=words, yticklabels=words)\n",
    "plt.xlabel('Sample Index')\n",
    "plt.ylabel('Sample Index')\n",
    "plt.title('Similarity Matrix with Color Coding')\n",
    "plt.show()\n",
    "\n"
   ]
  },
  {
   "cell_type": "code",
   "execution_count": null,
   "metadata": {
    "metadata": {}
   },
   "outputs": [],
   "source": [
    "# Visualize embeddings in 2 dimensions using PCA\n",
    "embedding_matrix.shape\n",
    "pca = PCA(n_components=2)\n",
    "reduced_data = pca.fit_transform(embedding_matrix)\n",
    "reduced_data\n",
    "\n",
    "# Define colors\n",
    "colors = ['blue'] * 4 + ['red'] * 4 + ['green'] * 4 + ['cyan'] * 4\n",
    "colors = colors[:len(reduced_data)]\n",
    "\n",
    "# Extract X and Y coordinates\n",
    "x_values = [point[0] for point in reduced_data]\n",
    "y_values = [point[1] for point in reduced_data]\n",
    "\n",
    "# Create a 2D scatter plot\n",
    "plt.figure(figsize=(8, 6))\n",
    "plt.scatter(x_values, y_values, color=colors, s = 150)\n",
    "plt.xticks([])\n",
    "plt.yticks([])\n",
    "plt.show()\n"
   ]
  },
  {
   "cell_type": "code",
   "execution_count": null,
   "metadata": {
    "metadata": {}
   },
   "outputs": [],
   "source": [
    "# Visualize embeddings in 3 dimensions using PCA\n",
    "pca = PCA(n_components=3)\n",
    "reduced_data = pca.fit_transform(embedding_matrix)\n",
    "\n",
    "# Extract X, Y, and Z coordinates\n",
    "x_values = [point[0] for point in reduced_data]\n",
    "y_values = [point[1] for point in reduced_data]\n",
    "z_values = [point[2] for point in reduced_data]\n",
    "\n",
    "# Create a 3D scatter plot\n",
    "fig = plt.figure(figsize=(10, 8))\n",
    "ax = fig.add_subplot(111, projection='3d')  # Add a 3D subplot\n",
    "ax.scatter(x_values, y_values, z_values, color=colors, s=100)\n",
    "ax.set_xticks([])\n",
    "ax.set_yticks([])\n",
    "ax.set_zticks([])\n",
    "\n",
    "plt.show()\n"
   ]
  },
  {
   "cell_type": "code",
   "execution_count": null,
   "metadata": {
    "metadata": {}
   },
   "outputs": [],
   "source": [
    "silhouette_scores = []\n",
    "kmeans_labels = {}\n",
    "for k in tqdm.tqdm(range(2, 12)):\n",
    "    kmeans = KMeans(n_clusters=k, \n",
    "                    random_state=42, \n",
    "                    n_init = 'auto').fit(embedding_matrix)\n",
    "    kmeans_labels[k] = kmeans.labels_\n",
    "    silhouette_scores.append(\n",
    "        {\n",
    "            'k': k,\n",
    "            'silhouette_score': silhouette_score(embedding_matrix, \n",
    "                kmeans_labels[k], metric = 'cosine')\n",
    "        }\n",
    "    )\n",
    "\n",
    "for e in zip(kmeans_labels[4], words):\n",
    "    print(e)\n",
    "\n",
    "fig = px.line(pd.DataFrame(silhouette_scores).set_index('k'),\n",
    "       title = '<b>Silhouette scores for K-means clustering</b>',\n",
    "       labels = {'value': 'silhoutte score'}, \n",
    "       color_discrete_sequence = plotly.colors.qualitative.Alphabet)\n",
    "fig.update_layout(showlegend = False)\n",
    "\n"
   ]
  }
 ],
 "metadata": {
  "kernelspec": {
   "display_name": "venv312",
   "language": "python",
   "name": "python3"
  },
  "language_info": {
   "codemirror_mode": {
    "name": "ipython",
    "version": 3
   },
   "file_extension": ".py",
   "mimetype": "text/x-python",
   "name": "python",
   "nbconvert_exporter": "python",
   "pygments_lexer": "ipython3",
   "version": "3.12.1"
  }
 },
 "nbformat": 4,
 "nbformat_minor": 2
}
