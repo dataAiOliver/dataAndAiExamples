{
 "cells": [
  {
   "cell_type": "code",
   "execution_count": null,
   "metadata": {},
   "outputs": [],
   "source": [
    "# a class to create a question answering system based on information retrieval\n",
    "from langchain.chains import RetrievalQA\n",
    "# a class to create text embeddings using HuggingFace templates\n",
    "from langchain.embeddings import HuggingFaceEmbeddings\n",
    "# a class to create a neural language model using LlamaCpp, a C++ implementation of GPT-3\n",
    "from langchain.llms import LlamaCpp\n",
    "# a class for splitting text into fixed-sized chunks with an optional overlay\n",
    "from langchain.text_splitter import RecursiveCharacterTextSplitter\n",
    "# a class to create a vector index using FAISS, a library for approximate nearest neighbor search\n",
    "from langchain.vectorstores import FAISS\n",
    "# a class for loading PDF documents from a directory\n",
    "from langchain.document_loaders import PyPDFDirectoryLoader\n",
    "import os"
   ]
  },
  {
   "cell_type": "code",
   "execution_count": null,
   "metadata": {},
   "outputs": [],
   "source": [
    "# load PDF files from a directory\n",
    "loader = PyPDFDirectoryLoader(os.path.join(os.getcwd(), \"in\", \"pdfs\"))\n",
    "data = loader.load()\n",
    "# print the loaded data, which is a list of tuples (file name, text extracted from the PDF)\n",
    "print(data)"
   ]
  },
  {
   "cell_type": "code",
   "execution_count": null,
   "metadata": {},
   "outputs": [],
   "source": [
    "# split the extracted data into text chunks using the text_splitter, which splits the text based on the specified number of characters and overlap\n",
    "text_splitter = RecursiveCharacterTextSplitter(chunk_size=10000, chunk_overlap=20)\n",
    "text_chunks = text_splitter.split_documents(data)\n",
    "# print the number of chunks obtained\n",
    "len(text_chunks)"
   ]
  },
  {
   "cell_type": "code",
   "execution_count": null,
   "metadata": {},
   "outputs": [],
   "source": [
    "# download the embeddings to use to represent text chunks in a vector space, using the pre-trained model \"sentence-transformers/all-MiniLM-L6-v2\"\n",
    "embeddings = HuggingFaceEmbeddings(model_name=\"sentence-transformers/all-MiniLM-L6-v2\")"
   ]
  },
  {
   "cell_type": "code",
   "execution_count": null,
   "metadata": {},
   "outputs": [],
   "source": [
    "# create embeddings for each text chunk using the FAISS class, which creates a vector index using FAISS and allows efficient searches between vectors\n",
    "vector_store = FAISS.from_documents(text_chunks, embedding=embeddings)"
   ]
  },
  {
   "cell_type": "code",
   "execution_count": null,
   "metadata": {},
   "outputs": [],
   "source": [
    "import os\n",
    "from dotenv import load_dotenv\n",
    "load_dotenv()\n",
    "\n",
    "from langchain_openai import AzureChatOpenAI\n",
    "llm = AzureChatOpenAI(azure_endpoint=os.getenv(\"AZURE_OPENAI_ENDPOINT\"), api_key=os.getenv(\"AZURE_OPENAI_API_KEY\")\n",
    "                        , azure_deployment=os.getenv(\"AZURE_OPENAI_CHATGPT_DEPLOYMENT\"), model=\"gpt-35-turbo\"\n",
    "                        , api_version=os.getenv(\"OPENAI_API_VERSION\"), openai_api_type=\"azure\")"
   ]
  },
  {
   "cell_type": "code",
   "execution_count": null,
   "metadata": {},
   "outputs": [],
   "source": [
    "# Create a question answering system based on information retrieval using the RetrievalQA class, which takes as input a neural language model, a chain type and a retriever (an object that allows you to retrieve the most relevant chunks of text for a query)\n",
    "qa = RetrievalQA.from_chain_type(llm=llm, chain_type=\"stuff\", retriever=vector_store.as_retriever(search_kwargs={\"k\": 2}))"
   ]
  },
  {
   "cell_type": "code",
   "execution_count": null,
   "metadata": {},
   "outputs": [],
   "source": [
    "# define a query to ask the system\n",
    "query = \"How many pokemon are there?\"\n",
    "# run the system and get a response\n",
    "qa.run(query)"
   ]
  }
 ],
 "metadata": {
  "kernelspec": {
   "display_name": "venv312",
   "language": "python",
   "name": "python3"
  },
  "language_info": {
   "codemirror_mode": {
    "name": "ipython",
    "version": 3
   },
   "file_extension": ".py",
   "mimetype": "text/x-python",
   "name": "python",
   "nbconvert_exporter": "python",
   "pygments_lexer": "ipython3",
   "version": "3.12.1"
  }
 },
 "nbformat": 4,
 "nbformat_minor": 2
}
